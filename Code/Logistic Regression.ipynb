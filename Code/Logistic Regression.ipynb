{
 "cells": [
  {
   "cell_type": "code",
   "execution_count": 41,
   "metadata": {},
   "outputs": [],
   "source": [
    "import numpy as np\n",
    "import pandas as pd\n",
    "import matplotlib.pyplot as plt\n",
    "import seaborn as sns\n",
    "from sklearn.model_selection import train_test_split\n",
    "from sklearn.preprocessing import StandardScaler\n",
    "from sklearn.linear_model import LogisticRegression\n",
    "from sklearn.preprocessing import LabelEncoder\n",
    "from sklearn.metrics import accuracy_score,confusion_matrix , classification_report\n",
    "from sklearn.datasets import make_classification\n",
    "from sklearn.metrics import confusion_matrix, ConfusionMatrixDisplay\n",
    "from sklearn.metrics import accuracy_score, precision_score,recall_score\n",
    "from sklearn.metrics import plot_confusion_matrix\n",
    "from sklearn.metrics import classification_report"
   ]
  },
  {
   "cell_type": "code",
   "execution_count": 19,
   "metadata": {},
   "outputs": [
    {
     "data": {
      "text/html": [
       "<div>\n",
       "<style scoped>\n",
       "    .dataframe tbody tr th:only-of-type {\n",
       "        vertical-align: middle;\n",
       "    }\n",
       "\n",
       "    .dataframe tbody tr th {\n",
       "        vertical-align: top;\n",
       "    }\n",
       "\n",
       "    .dataframe thead th {\n",
       "        text-align: right;\n",
       "    }\n",
       "</style>\n",
       "<table border=\"1\" class=\"dataframe\">\n",
       "  <thead>\n",
       "    <tr style=\"text-align: right;\">\n",
       "      <th></th>\n",
       "      <th>enrollee_id</th>\n",
       "      <th>city</th>\n",
       "      <th>city_development_index</th>\n",
       "      <th>gender</th>\n",
       "      <th>relevent_experience</th>\n",
       "      <th>enrolled_university</th>\n",
       "      <th>education_level</th>\n",
       "      <th>major_discipline</th>\n",
       "      <th>experience</th>\n",
       "      <th>company_size</th>\n",
       "      <th>company_type</th>\n",
       "      <th>last_new_job</th>\n",
       "      <th>training_hours</th>\n",
       "      <th>target</th>\n",
       "    </tr>\n",
       "  </thead>\n",
       "  <tbody>\n",
       "    <tr>\n",
       "      <th>0</th>\n",
       "      <td>8949</td>\n",
       "      <td>city_103</td>\n",
       "      <td>0.920</td>\n",
       "      <td>Male</td>\n",
       "      <td>Has relevent experience</td>\n",
       "      <td>no_enrollment</td>\n",
       "      <td>Graduate</td>\n",
       "      <td>STEM</td>\n",
       "      <td>&gt;20</td>\n",
       "      <td>NaN</td>\n",
       "      <td>NaN</td>\n",
       "      <td>1</td>\n",
       "      <td>36</td>\n",
       "      <td>1.0</td>\n",
       "    </tr>\n",
       "    <tr>\n",
       "      <th>1</th>\n",
       "      <td>29725</td>\n",
       "      <td>city_40</td>\n",
       "      <td>0.776</td>\n",
       "      <td>Male</td>\n",
       "      <td>No relevent experience</td>\n",
       "      <td>no_enrollment</td>\n",
       "      <td>Graduate</td>\n",
       "      <td>STEM</td>\n",
       "      <td>15</td>\n",
       "      <td>50-99</td>\n",
       "      <td>Pvt Ltd</td>\n",
       "      <td>&gt;4</td>\n",
       "      <td>47</td>\n",
       "      <td>0.0</td>\n",
       "    </tr>\n",
       "    <tr>\n",
       "      <th>2</th>\n",
       "      <td>11561</td>\n",
       "      <td>city_21</td>\n",
       "      <td>0.624</td>\n",
       "      <td>NaN</td>\n",
       "      <td>No relevent experience</td>\n",
       "      <td>Full time course</td>\n",
       "      <td>Graduate</td>\n",
       "      <td>STEM</td>\n",
       "      <td>5</td>\n",
       "      <td>NaN</td>\n",
       "      <td>NaN</td>\n",
       "      <td>never</td>\n",
       "      <td>83</td>\n",
       "      <td>0.0</td>\n",
       "    </tr>\n",
       "    <tr>\n",
       "      <th>3</th>\n",
       "      <td>33241</td>\n",
       "      <td>city_115</td>\n",
       "      <td>0.789</td>\n",
       "      <td>NaN</td>\n",
       "      <td>No relevent experience</td>\n",
       "      <td>NaN</td>\n",
       "      <td>Graduate</td>\n",
       "      <td>Business Degree</td>\n",
       "      <td>&lt;1</td>\n",
       "      <td>NaN</td>\n",
       "      <td>Pvt Ltd</td>\n",
       "      <td>never</td>\n",
       "      <td>52</td>\n",
       "      <td>1.0</td>\n",
       "    </tr>\n",
       "    <tr>\n",
       "      <th>4</th>\n",
       "      <td>666</td>\n",
       "      <td>city_162</td>\n",
       "      <td>0.767</td>\n",
       "      <td>Male</td>\n",
       "      <td>Has relevent experience</td>\n",
       "      <td>no_enrollment</td>\n",
       "      <td>Masters</td>\n",
       "      <td>STEM</td>\n",
       "      <td>&gt;20</td>\n",
       "      <td>50-99</td>\n",
       "      <td>Funded Startup</td>\n",
       "      <td>4</td>\n",
       "      <td>8</td>\n",
       "      <td>0.0</td>\n",
       "    </tr>\n",
       "  </tbody>\n",
       "</table>\n",
       "</div>"
      ],
      "text/plain": [
       "   enrollee_id      city  city_development_index gender  \\\n",
       "0         8949  city_103                   0.920   Male   \n",
       "1        29725   city_40                   0.776   Male   \n",
       "2        11561   city_21                   0.624    NaN   \n",
       "3        33241  city_115                   0.789    NaN   \n",
       "4          666  city_162                   0.767   Male   \n",
       "\n",
       "       relevent_experience enrolled_university education_level  \\\n",
       "0  Has relevent experience       no_enrollment        Graduate   \n",
       "1   No relevent experience       no_enrollment        Graduate   \n",
       "2   No relevent experience    Full time course        Graduate   \n",
       "3   No relevent experience                 NaN        Graduate   \n",
       "4  Has relevent experience       no_enrollment         Masters   \n",
       "\n",
       "  major_discipline experience company_size    company_type last_new_job  \\\n",
       "0             STEM        >20          NaN             NaN            1   \n",
       "1             STEM         15        50-99         Pvt Ltd           >4   \n",
       "2             STEM          5          NaN             NaN        never   \n",
       "3  Business Degree         <1          NaN         Pvt Ltd        never   \n",
       "4             STEM        >20        50-99  Funded Startup            4   \n",
       "\n",
       "   training_hours  target  \n",
       "0              36     1.0  \n",
       "1              47     0.0  \n",
       "2              83     0.0  \n",
       "3              52     1.0  \n",
       "4               8     0.0  "
      ]
     },
     "execution_count": 19,
     "metadata": {},
     "output_type": "execute_result"
    }
   ],
   "source": [
    "data =pd.read_csv('aug_train.csv')\n",
    "data.head()"
   ]
  },
  {
   "cell_type": "code",
   "execution_count": 3,
   "metadata": {},
   "outputs": [
    {
     "data": {
      "text/plain": [
       "(19158, 14)"
      ]
     },
     "execution_count": 3,
     "metadata": {},
     "output_type": "execute_result"
    }
   ],
   "source": [
    "data.shape"
   ]
  },
  {
   "cell_type": "code",
   "execution_count": 4,
   "metadata": {},
   "outputs": [
    {
     "data": {
      "text/plain": [
       "enrollee_id                  0\n",
       "city                         0\n",
       "city_development_index       0\n",
       "gender                    4508\n",
       "relevent_experience          0\n",
       "enrolled_university        386\n",
       "education_level            460\n",
       "major_discipline          2813\n",
       "experience                  65\n",
       "company_size              5938\n",
       "company_type              6140\n",
       "last_new_job               423\n",
       "training_hours               0\n",
       "target                       0\n",
       "dtype: int64"
      ]
     },
     "execution_count": 4,
     "metadata": {},
     "output_type": "execute_result"
    }
   ],
   "source": [
    "data.isnull().sum( )"
   ]
  },
  {
   "cell_type": "code",
   "execution_count": 5,
   "metadata": {},
   "outputs": [
    {
     "name": "stdout",
     "output_type": "stream",
     "text": [
      "city\n",
      "gender\n",
      "relevent_experience\n",
      "enrolled_university\n",
      "education_level\n",
      "major_discipline\n",
      "experience\n",
      "company_size\n",
      "company_type\n",
      "last_new_job\n"
     ]
    }
   ],
   "source": [
    "#convert string to float\n",
    "le = LabelEncoder()\n",
    "object_values = list(data.select_dtypes(include=['object']).columns.values)\n",
    "for i in object_values:\n",
    "    print(i)\n",
    "    data[i].fillna('UNK', inplace=True)\n",
    "    data[i] = le.fit_transform(data[i])"
   ]
  },
  {
   "cell_type": "code",
   "execution_count": 6,
   "metadata": {},
   "outputs": [],
   "source": [
    "# convert all columns to one type (int)\n",
    "enc = LabelEncoder()\n",
    "for j in data.columns:\n",
    "    data[j] = enc.fit_transform(data[j])"
   ]
  },
  {
   "cell_type": "code",
   "execution_count": 7,
   "metadata": {},
   "outputs": [
    {
     "data": {
      "text/html": [
       "<div>\n",
       "<style scoped>\n",
       "    .dataframe tbody tr th:only-of-type {\n",
       "        vertical-align: middle;\n",
       "    }\n",
       "\n",
       "    .dataframe tbody tr th {\n",
       "        vertical-align: top;\n",
       "    }\n",
       "\n",
       "    .dataframe thead th {\n",
       "        text-align: right;\n",
       "    }\n",
       "</style>\n",
       "<table border=\"1\" class=\"dataframe\">\n",
       "  <thead>\n",
       "    <tr style=\"text-align: right;\">\n",
       "      <th></th>\n",
       "      <th>enrollee_id</th>\n",
       "      <th>city</th>\n",
       "      <th>city_development_index</th>\n",
       "      <th>gender</th>\n",
       "      <th>relevent_experience</th>\n",
       "      <th>enrolled_university</th>\n",
       "      <th>education_level</th>\n",
       "      <th>major_discipline</th>\n",
       "      <th>experience</th>\n",
       "      <th>company_size</th>\n",
       "      <th>company_type</th>\n",
       "      <th>last_new_job</th>\n",
       "      <th>training_hours</th>\n",
       "      <th>target</th>\n",
       "    </tr>\n",
       "  </thead>\n",
       "  <tbody>\n",
       "    <tr>\n",
       "      <th>0</th>\n",
       "      <td>5018</td>\n",
       "      <td>5</td>\n",
       "      <td>85</td>\n",
       "      <td>1</td>\n",
       "      <td>0</td>\n",
       "      <td>3</td>\n",
       "      <td>0</td>\n",
       "      <td>5</td>\n",
       "      <td>21</td>\n",
       "      <td>8</td>\n",
       "      <td>6</td>\n",
       "      <td>0</td>\n",
       "      <td>35</td>\n",
       "      <td>1</td>\n",
       "    </tr>\n",
       "    <tr>\n",
       "      <th>1</th>\n",
       "      <td>16986</td>\n",
       "      <td>77</td>\n",
       "      <td>48</td>\n",
       "      <td>1</td>\n",
       "      <td>1</td>\n",
       "      <td>3</td>\n",
       "      <td>0</td>\n",
       "      <td>5</td>\n",
       "      <td>6</td>\n",
       "      <td>4</td>\n",
       "      <td>5</td>\n",
       "      <td>4</td>\n",
       "      <td>46</td>\n",
       "      <td>0</td>\n",
       "    </tr>\n",
       "    <tr>\n",
       "      <th>2</th>\n",
       "      <td>6499</td>\n",
       "      <td>64</td>\n",
       "      <td>14</td>\n",
       "      <td>3</td>\n",
       "      <td>1</td>\n",
       "      <td>0</td>\n",
       "      <td>0</td>\n",
       "      <td>5</td>\n",
       "      <td>15</td>\n",
       "      <td>8</td>\n",
       "      <td>6</td>\n",
       "      <td>6</td>\n",
       "      <td>82</td>\n",
       "      <td>0</td>\n",
       "    </tr>\n",
       "    <tr>\n",
       "      <th>3</th>\n",
       "      <td>19067</td>\n",
       "      <td>14</td>\n",
       "      <td>52</td>\n",
       "      <td>3</td>\n",
       "      <td>1</td>\n",
       "      <td>2</td>\n",
       "      <td>0</td>\n",
       "      <td>1</td>\n",
       "      <td>20</td>\n",
       "      <td>8</td>\n",
       "      <td>5</td>\n",
       "      <td>6</td>\n",
       "      <td>51</td>\n",
       "      <td>1</td>\n",
       "    </tr>\n",
       "    <tr>\n",
       "      <th>4</th>\n",
       "      <td>358</td>\n",
       "      <td>50</td>\n",
       "      <td>45</td>\n",
       "      <td>1</td>\n",
       "      <td>0</td>\n",
       "      <td>3</td>\n",
       "      <td>2</td>\n",
       "      <td>5</td>\n",
       "      <td>21</td>\n",
       "      <td>4</td>\n",
       "      <td>1</td>\n",
       "      <td>3</td>\n",
       "      <td>7</td>\n",
       "      <td>0</td>\n",
       "    </tr>\n",
       "  </tbody>\n",
       "</table>\n",
       "</div>"
      ],
      "text/plain": [
       "   enrollee_id  city  city_development_index  gender  relevent_experience  \\\n",
       "0         5018     5                      85       1                    0   \n",
       "1        16986    77                      48       1                    1   \n",
       "2         6499    64                      14       3                    1   \n",
       "3        19067    14                      52       3                    1   \n",
       "4          358    50                      45       1                    0   \n",
       "\n",
       "   enrolled_university  education_level  major_discipline  experience  \\\n",
       "0                    3                0                 5          21   \n",
       "1                    3                0                 5           6   \n",
       "2                    0                0                 5          15   \n",
       "3                    2                0                 1          20   \n",
       "4                    3                2                 5          21   \n",
       "\n",
       "   company_size  company_type  last_new_job  training_hours  target  \n",
       "0             8             6             0              35       1  \n",
       "1             4             5             4              46       0  \n",
       "2             8             6             6              82       0  \n",
       "3             8             5             6              51       1  \n",
       "4             4             1             3               7       0  "
      ]
     },
     "execution_count": 7,
     "metadata": {},
     "output_type": "execute_result"
    }
   ],
   "source": [
    "data.head()"
   ]
  },
  {
   "cell_type": "code",
   "execution_count": 8,
   "metadata": {},
   "outputs": [
    {
     "data": {
      "text/plain": [
       "enrollee_id               0\n",
       "city                      0\n",
       "city_development_index    0\n",
       "gender                    0\n",
       "relevent_experience       0\n",
       "enrolled_university       0\n",
       "education_level           0\n",
       "major_discipline          0\n",
       "experience                0\n",
       "company_size              0\n",
       "company_type              0\n",
       "last_new_job              0\n",
       "training_hours            0\n",
       "target                    0\n",
       "dtype: int64"
      ]
     },
     "execution_count": 8,
     "metadata": {},
     "output_type": "execute_result"
    }
   ],
   "source": [
    "data.isnull().sum()"
   ]
  },
  {
   "cell_type": "code",
   "execution_count": 9,
   "metadata": {},
   "outputs": [],
   "source": [
    "data=data.set_index('enrollee_id')"
   ]
  },
  {
   "cell_type": "code",
   "execution_count": 10,
   "metadata": {},
   "outputs": [],
   "source": [
    "x=data.drop(columns='target')\n",
    "y=data['target']"
   ]
  },
  {
   "cell_type": "code",
   "execution_count": 11,
   "metadata": {},
   "outputs": [],
   "source": [
    "x_train,x_test,y_train,y_test = train_test_split(x,y,train_size=.80,random_state=0)"
   ]
  },
  {
   "cell_type": "code",
   "execution_count": 12,
   "metadata": {},
   "outputs": [
    {
     "data": {
      "text/html": [
       "<div>\n",
       "<style scoped>\n",
       "    .dataframe tbody tr th:only-of-type {\n",
       "        vertical-align: middle;\n",
       "    }\n",
       "\n",
       "    .dataframe tbody tr th {\n",
       "        vertical-align: top;\n",
       "    }\n",
       "\n",
       "    .dataframe thead th {\n",
       "        text-align: right;\n",
       "    }\n",
       "</style>\n",
       "<table border=\"1\" class=\"dataframe\">\n",
       "  <thead>\n",
       "    <tr style=\"text-align: right;\">\n",
       "      <th></th>\n",
       "      <th>city</th>\n",
       "      <th>city_development_index</th>\n",
       "      <th>gender</th>\n",
       "      <th>relevent_experience</th>\n",
       "      <th>enrolled_university</th>\n",
       "      <th>education_level</th>\n",
       "      <th>major_discipline</th>\n",
       "      <th>experience</th>\n",
       "      <th>company_size</th>\n",
       "      <th>company_type</th>\n",
       "      <th>last_new_job</th>\n",
       "      <th>training_hours</th>\n",
       "      <th>target</th>\n",
       "    </tr>\n",
       "  </thead>\n",
       "  <tbody>\n",
       "    <tr>\n",
       "      <th>0</th>\n",
       "      <td>-1.105203</td>\n",
       "      <td>0.755890</td>\n",
       "      <td>-0.453100</td>\n",
       "      <td>-0.623752</td>\n",
       "      <td>0.599493</td>\n",
       "      <td>-0.681411</td>\n",
       "      <td>0.128373</td>\n",
       "      <td>1.218165</td>\n",
       "      <td>1.188828</td>\n",
       "      <td>0.797357</td>\n",
       "      <td>-0.904269</td>\n",
       "      <td>-0.512663</td>\n",
       "      <td>1.735070</td>\n",
       "    </tr>\n",
       "    <tr>\n",
       "      <th>1</th>\n",
       "      <td>0.925077</td>\n",
       "      <td>-0.510081</td>\n",
       "      <td>-0.453100</td>\n",
       "      <td>1.603202</td>\n",
       "      <td>0.599493</td>\n",
       "      <td>-0.681411</td>\n",
       "      <td>0.128373</td>\n",
       "      <td>-1.050588</td>\n",
       "      <td>-0.207910</td>\n",
       "      <td>0.127279</td>\n",
       "      <td>0.918254</td>\n",
       "      <td>-0.300048</td>\n",
       "      <td>-0.576346</td>\n",
       "    </tr>\n",
       "    <tr>\n",
       "      <th>2</th>\n",
       "      <td>0.558499</td>\n",
       "      <td>-1.673406</td>\n",
       "      <td>1.725463</td>\n",
       "      <td>1.603202</td>\n",
       "      <td>-1.852315</td>\n",
       "      <td>-0.681411</td>\n",
       "      <td>0.128373</td>\n",
       "      <td>0.310664</td>\n",
       "      <td>1.188828</td>\n",
       "      <td>0.797357</td>\n",
       "      <td>1.829515</td>\n",
       "      <td>0.395783</td>\n",
       "      <td>-0.576346</td>\n",
       "    </tr>\n",
       "    <tr>\n",
       "      <th>3</th>\n",
       "      <td>-0.851418</td>\n",
       "      <td>-0.373219</td>\n",
       "      <td>1.725463</td>\n",
       "      <td>1.603202</td>\n",
       "      <td>-0.217776</td>\n",
       "      <td>-0.681411</td>\n",
       "      <td>-3.664035</td>\n",
       "      <td>1.066915</td>\n",
       "      <td>1.188828</td>\n",
       "      <td>0.127279</td>\n",
       "      <td>1.829515</td>\n",
       "      <td>-0.203405</td>\n",
       "      <td>1.735070</td>\n",
       "    </tr>\n",
       "    <tr>\n",
       "      <th>4</th>\n",
       "      <td>0.163722</td>\n",
       "      <td>-0.612727</td>\n",
       "      <td>-0.453100</td>\n",
       "      <td>-0.623752</td>\n",
       "      <td>0.599493</td>\n",
       "      <td>1.001625</td>\n",
       "      <td>0.128373</td>\n",
       "      <td>1.218165</td>\n",
       "      <td>-0.207910</td>\n",
       "      <td>-2.553031</td>\n",
       "      <td>0.462623</td>\n",
       "      <td>-1.053865</td>\n",
       "      <td>-0.576346</td>\n",
       "    </tr>\n",
       "    <tr>\n",
       "      <th>5</th>\n",
       "      <td>0.361110</td>\n",
       "      <td>-0.681158</td>\n",
       "      <td>1.725463</td>\n",
       "      <td>-0.623752</td>\n",
       "      <td>-1.035046</td>\n",
       "      <td>-0.681411</td>\n",
       "      <td>0.128373</td>\n",
       "      <td>-1.655589</td>\n",
       "      <td>1.188828</td>\n",
       "      <td>0.797357</td>\n",
       "      <td>-0.904269</td>\n",
       "      <td>-0.744607</td>\n",
       "      <td>1.735070</td>\n",
       "    </tr>\n",
       "    <tr>\n",
       "      <th>6</th>\n",
       "      <td>0.135524</td>\n",
       "      <td>0.755890</td>\n",
       "      <td>-0.453100</td>\n",
       "      <td>-0.623752</td>\n",
       "      <td>0.599493</td>\n",
       "      <td>0.160107</td>\n",
       "      <td>1.076475</td>\n",
       "      <td>0.310664</td>\n",
       "      <td>-0.207910</td>\n",
       "      <td>-2.553031</td>\n",
       "      <td>-0.904269</td>\n",
       "      <td>-0.744607</td>\n",
       "      <td>-0.576346</td>\n",
       "    </tr>\n",
       "    <tr>\n",
       "      <th>7</th>\n",
       "      <td>1.094267</td>\n",
       "      <td>-0.749589</td>\n",
       "      <td>-0.453100</td>\n",
       "      <td>-0.623752</td>\n",
       "      <td>0.599493</td>\n",
       "      <td>-0.681411</td>\n",
       "      <td>0.128373</td>\n",
       "      <td>-1.353089</td>\n",
       "      <td>0.839643</td>\n",
       "      <td>0.127279</td>\n",
       "      <td>0.918254</td>\n",
       "      <td>-0.860579</td>\n",
       "      <td>1.735070</td>\n",
       "    </tr>\n",
       "    <tr>\n",
       "      <th>8</th>\n",
       "      <td>-1.105203</td>\n",
       "      <td>0.755890</td>\n",
       "      <td>-0.453100</td>\n",
       "      <td>-0.623752</td>\n",
       "      <td>0.599493</td>\n",
       "      <td>-0.681411</td>\n",
       "      <td>0.128373</td>\n",
       "      <td>0.613164</td>\n",
       "      <td>-0.207910</td>\n",
       "      <td>0.127279</td>\n",
       "      <td>-0.904269</td>\n",
       "      <td>-0.319377</td>\n",
       "      <td>1.735070</td>\n",
       "    </tr>\n",
       "    <tr>\n",
       "      <th>9</th>\n",
       "      <td>-1.105203</td>\n",
       "      <td>0.755890</td>\n",
       "      <td>1.725463</td>\n",
       "      <td>-0.623752</td>\n",
       "      <td>0.599493</td>\n",
       "      <td>-0.681411</td>\n",
       "      <td>0.128373</td>\n",
       "      <td>-0.748088</td>\n",
       "      <td>-0.557095</td>\n",
       "      <td>0.127279</td>\n",
       "      <td>0.918254</td>\n",
       "      <td>1.130272</td>\n",
       "      <td>-0.576346</td>\n",
       "    </tr>\n",
       "  </tbody>\n",
       "</table>\n",
       "</div>"
      ],
      "text/plain": [
       "       city  city_development_index    gender  relevent_experience  \\\n",
       "0 -1.105203                0.755890 -0.453100            -0.623752   \n",
       "1  0.925077               -0.510081 -0.453100             1.603202   \n",
       "2  0.558499               -1.673406  1.725463             1.603202   \n",
       "3 -0.851418               -0.373219  1.725463             1.603202   \n",
       "4  0.163722               -0.612727 -0.453100            -0.623752   \n",
       "5  0.361110               -0.681158  1.725463            -0.623752   \n",
       "6  0.135524                0.755890 -0.453100            -0.623752   \n",
       "7  1.094267               -0.749589 -0.453100            -0.623752   \n",
       "8 -1.105203                0.755890 -0.453100            -0.623752   \n",
       "9 -1.105203                0.755890  1.725463            -0.623752   \n",
       "\n",
       "   enrolled_university  education_level  major_discipline  experience  \\\n",
       "0             0.599493        -0.681411          0.128373    1.218165   \n",
       "1             0.599493        -0.681411          0.128373   -1.050588   \n",
       "2            -1.852315        -0.681411          0.128373    0.310664   \n",
       "3            -0.217776        -0.681411         -3.664035    1.066915   \n",
       "4             0.599493         1.001625          0.128373    1.218165   \n",
       "5            -1.035046        -0.681411          0.128373   -1.655589   \n",
       "6             0.599493         0.160107          1.076475    0.310664   \n",
       "7             0.599493        -0.681411          0.128373   -1.353089   \n",
       "8             0.599493        -0.681411          0.128373    0.613164   \n",
       "9             0.599493        -0.681411          0.128373   -0.748088   \n",
       "\n",
       "   company_size  company_type  last_new_job  training_hours    target  \n",
       "0      1.188828      0.797357     -0.904269       -0.512663  1.735070  \n",
       "1     -0.207910      0.127279      0.918254       -0.300048 -0.576346  \n",
       "2      1.188828      0.797357      1.829515        0.395783 -0.576346  \n",
       "3      1.188828      0.127279      1.829515       -0.203405  1.735070  \n",
       "4     -0.207910     -2.553031      0.462623       -1.053865 -0.576346  \n",
       "5      1.188828      0.797357     -0.904269       -0.744607  1.735070  \n",
       "6     -0.207910     -2.553031     -0.904269       -0.744607 -0.576346  \n",
       "7      0.839643      0.127279      0.918254       -0.860579  1.735070  \n",
       "8     -0.207910      0.127279     -0.904269       -0.319377  1.735070  \n",
       "9     -0.557095      0.127279      0.918254        1.130272 -0.576346  "
      ]
     },
     "execution_count": 12,
     "metadata": {},
     "output_type": "execute_result"
    }
   ],
   "source": [
    "# Normalization\n",
    "sc=StandardScaler()\n",
    "standard_data=data.copy()\n",
    "standard_data =sc.fit_transform(standard_data)\n",
    "standard_data=pd.DataFrame(standard_data,columns=data.columns)\n",
    "standard_data.head(10)"
   ]
  },
  {
   "cell_type": "code",
   "execution_count": 13,
   "metadata": {},
   "outputs": [
    {
     "name": "stderr",
     "output_type": "stream",
     "text": [
      "C:\\Users\\user\\anaconda3\\lib\\site-packages\\sklearn\\linear_model\\_logistic.py:762: ConvergenceWarning: lbfgs failed to converge (status=1):\n",
      "STOP: TOTAL NO. of ITERATIONS REACHED LIMIT.\n",
      "\n",
      "Increase the number of iterations (max_iter) or scale the data as shown in:\n",
      "    https://scikit-learn.org/stable/modules/preprocessing.html\n",
      "Please also refer to the documentation for alternative solver options:\n",
      "    https://scikit-learn.org/stable/modules/linear_model.html#logistic-regression\n",
      "  n_iter_i = _check_optimize_result(\n"
     ]
    },
    {
     "data": {
      "text/plain": [
       "LogisticRegression()"
      ]
     },
     "execution_count": 13,
     "metadata": {},
     "output_type": "execute_result"
    }
   ],
   "source": [
    "model=LogisticRegression()\n",
    "model.fit(x_train,y_train)"
   ]
  },
  {
   "cell_type": "code",
   "execution_count": 37,
   "metadata": {},
   "outputs": [
    {
     "name": "stdout",
     "output_type": "stream",
     "text": [
      "Accuracy of Model:  76.74843423799582\n"
     ]
    }
   ],
   "source": [
    "y_pred=model.predict(x_test)\n",
    "print('Accuracy of Model: ', accuracy_score(y_test,y_pred)*100)"
   ]
  },
  {
   "cell_type": "code",
   "execution_count": 46,
   "metadata": {},
   "outputs": [],
   "source": [
    "# fig, ax = plt.subplots()\n",
    "# ax.scatter(y_test, y_pred)\n",
    "# ax.plot([y.min(), y.max()], [y.min(), y.max()], 'k--', lw=4)\n",
    "# ax.set_title('Actual Vs. Predicted')\n",
    "# ax.set_xlabel('Actual')\n",
    "# ax.set_ylabel('Predicted')\n",
    "# plt.show()"
   ]
  },
  {
   "cell_type": "code",
   "execution_count": 28,
   "metadata": {},
   "outputs": [
    {
     "data": {
      "text/plain": [
       "array([[2692,  190],\n",
       "       [ 701,  249]], dtype=int64)"
      ]
     },
     "execution_count": 28,
     "metadata": {},
     "output_type": "execute_result"
    }
   ],
   "source": [
    "cf_matrix = confusion_matrix(y_test,y_pred)"
   ]
  },
  {
   "cell_type": "code",
   "execution_count": 31,
   "metadata": {},
   "outputs": [
    {
     "data": {
      "text/plain": [
       "<AxesSubplot:>"
      ]
     },
     "execution_count": 31,
     "metadata": {},
     "output_type": "execute_result"
    },
    {
     "data": {
      "image/png": "[encoded data removed]",
      "text/plain": [
       "<Figure size 432x288 with 2 Axes>"
      ]
     },
     "metadata": {
      "needs_background": "light"
     },
     "output_type": "display_data"
    }
   ],
   "source": [
    "group_names = ['True Neg','False Pos','False Neg','True Pos']\n",
    "group_counts = [\"{0:0.0f}\".format(value) for value in\n",
    "                cf_matrix.flatten()]\n",
    "group_percentages = [\"{0:.2%}\".format(value) for value in\n",
    "                     cf_matrix.flatten()/np.sum(cf_matrix)]\n",
    "labels = [f\"{v1}\\n{v2}\\n{v3}\" for v1, v2, v3 in\n",
    "          zip(group_names,group_counts,group_percentages)]\n",
    "labels = np.asarray(labels).reshape(2,2)\n",
    "sns.heatmap(cf_matrix, annot=labels, fmt='', cmap='Blues')"
   ]
  },
  {
   "cell_type": "code",
   "execution_count": 42,
   "metadata": {},
   "outputs": [
    {
     "name": "stdout",
     "output_type": "stream",
     "text": [
      "              precision    recall  f1-score   support\n",
      "\n",
      "           0       0.79      0.93      0.86      2882\n",
      "           1       0.57      0.26      0.36       950\n",
      "\n",
      "    accuracy                           0.77      3832\n",
      "   macro avg       0.68      0.60      0.61      3832\n",
      "weighted avg       0.74      0.77      0.73      3832\n",
      "\n"
     ]
    }
   ],
   "source": [
    "print(classification_report(y_test, y_pred))"
   ]
  },
  {
   "cell_type": "code",
   "execution_count": 33,
   "metadata": {},
   "outputs": [
    {
     "name": "stdout",
     "output_type": "stream",
     "text": [
      "Precision: 56.71981776765376\n",
      "Recall: 26.210526315789473\n"
     ]
    }
   ],
   "source": [
    "print(\"Precision:\",precision_score(y_test, y_pred)*100)\n",
    "print(\"Recall:\",recall_score(y_test, y_pred)*100)"
   ]
  }
 ],
 "metadata": {
  "kernelspec": {
   "display_name": "Python 3",
   "language": "python",
   "name": "python3"
  },
  "language_info": {
   "codemirror_mode": {
    "name": "ipython",
    "version": 3
   },
   "file_extension": ".py",
   "mimetype": "text/x-python",
   "name": "python",
   "nbconvert_exporter": "python",
   "pygments_lexer": "ipython3",
   "version": "3.8.5"
  }
 },
 "nbformat": 4,
 "nbformat_minor": 4
}
